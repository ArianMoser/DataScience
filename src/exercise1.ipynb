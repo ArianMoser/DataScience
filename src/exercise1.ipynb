{
 "cells": [
  {
   "cell_type": "markdown",
   "metadata": {},
   "source": [
    "# Wahlfach: Data Science\n",
    "#### Student: Arian Moser\n",
    "#### Matrikelnummer: 2308965\n",
    "#### Kurs: TINF16B\n",
    "#### Abgabe: 18.04.2019\n"
   ]
  },
  {
   "cell_type": "markdown",
   "metadata": {},
   "source": [
    "# Nummer 1: Analyse, Interpretation und Bereinigung der Daten\n",
    "\n",
    "\n",
    "## Aufgabe\n",
    "- Fahrzeugdatensatz ist mit Hilfe statistischer Standardfunktionen zu analysieren, interpretieren und ggfs. zu bereinigen\n",
    "- Visuelle Darstellungsarten in verschiedenen Diagrammen darlegen, um wichtige Zusammenhänge zu visualisieren\n",
    "- Kommentare, um interessante Erkenntnisse festzuhalten\n",
    "\n",
    "## Erste Notizen \n",
    "\n",
    "### Crisp-DM\n",
    "\n",
    "#### Phase: Data Unterstanding\n",
    "- Welche Daten liegen vor?\n",
    "  - Fahrzeugdaten, in dem verschiedene Merkmale von Fahrzeugen genannt werden\n",
    "  - Format CSV-Datei\n",
    "  - Anzahl der Dimensionen: 9 (inkl. der Klassenatttribute)\n",
    "  - Anzahl der Datenpunkte: 406 \n",
    "  - Attribute:\n",
    "    1. **mpg**:           continuous\n",
    "    2. **cylinders**:     multi-valued discrete\n",
    "    3. **displacement**:  continuous\n",
    "    4. **horsepower**:    continuous\n",
    "    5. **weight**:        continuous\n",
    "    6. **acceleration**:  continuous\n",
    "    7. **model year**:    multi-valued discrete\n",
    "    8. **origin**:        multi-valued discrete\n",
    "    9. **car name**:      string (unique for each instance)\n",
    "  - Zusatz:\n",
    "    - horsepower fehlen 6 Attributwerte\n",
    "    - mpg fehlen 8 Attributwerte\n",
    "\n",
    "- Wie sehen diese Daten aus? Könnte es Probleme mit den Daten geben?\n",
    "  - im csv format\n",
    "  - fehlende Attribute bei mpg und horsepower (NA) \n",
    "    - könnten zu Probleme führen\n",
    "    - unvollständige Datensätze sollten entfernt werden\n",
    "  - Attribute getrennt durch verschieden viele Leerzeichen\n",
    "  - Zeile = Datensatz\n",
    "- Kann man \"auf den ersten Blick\" Zusammenhänge erkennen?\n",
    "  - Gewicht und MPG korreliert negativ\n",
    "  - PS und Hubraum korellieren negativ\n",
    "  - Hubraum und Gewicht korrelieren positiv\n",
    "- Wie können beispielhafte Antworten oder Ergebnisse aussehen? \n",
    "\n",
    "#### Phase: Data Preparation\n",
    "- Können die Daten in der vorliegenden Form verwendet werden?\n",
    "  - ja könnten sie\n",
    "  - könnten aber zu verfälschenden Ergebnissen führen\n",
    "- Wie können diese vorverarbeitet werden, um sie zu verwenden?\n",
    "  - Unvollständige Datensätze entfernen\n"
   ]
  },
  {
   "cell_type": "markdown",
   "metadata": {},
   "source": [
    "### Imports"
   ]
  },
  {
   "cell_type": "code",
   "execution_count": 41,
   "metadata": {},
   "outputs": [],
   "source": [
    "# Imports\n",
    "import numpy as np\n",
    "import matplotlib.pyplot as plt\n",
    "import pandas as pd\n",
    "import seaborn as sns"
   ]
  },
  {
   "cell_type": "markdown",
   "metadata": {},
   "source": [
    "### Vorbereitung der CSV Datei\n",
    "Hier werden die zur Verfügung gestellte Datei so bearbeitet, dass sie im nachfolgenden Schritt leichter als CSV Datei eingelesen werden kann. Dafür werden die Abstände zwischen den einzelnen Attributen auf ein Leerzeichen gekürzt. Die Datei wird anschließend als _autodata.csv_ im Ordner _data_ gespeichert."
   ]
  },
  {
   "cell_type": "code",
   "execution_count": 42,
   "metadata": {},
   "outputs": [],
   "source": [
    "pd.set_option('display.max_columns', None)\n",
    "# Manipulate data\n",
    "f = open(\"../data/auto-mpg.data-original\")\n",
    "content = f.read()\n",
    "f.close()\n",
    "while content != content.replace('  ', ' '):\n",
    "    content = content.replace('  ', ' ')\n",
    "content = content.replace('\\t', ' ')\n",
    "# print(content)\n",
    "\n",
    "f = open(\"../data/autodata.csv\", \"w\")\n",
    "f.write(content)\n",
    "f.close()"
   ]
  },
  {
   "cell_type": "markdown",
   "metadata": {},
   "source": [
    "### Einlesen der CSV Datei"
   ]
  },
  {
   "cell_type": "code",
   "execution_count": 43,
   "metadata": {},
   "outputs": [],
   "source": [
    "# readin data \n",
    "col_labels=('mpg', 'cylinders', 'displacement', 'horsepower', 'weight', 'acceleration', 'model year', 'origin', 'car name')\n",
    "pd.options.display.float_format = '{:,.2f}'.format\n",
    "df = pd.read_csv(\"../data/autodata.csv\", delimiter=\" \", header=None, names=col_labels)"
   ]
  },
  {
   "cell_type": "markdown",
   "metadata": {},
   "source": [
    "### Analyse der Daten"
   ]
  },
  {
   "cell_type": "code",
   "execution_count": 44,
   "metadata": {},
   "outputs": [
    {
     "name": "stdout",
     "output_type": "stream",
     "text": [
      "Dimensionen: (406, 9)\n"
     ]
    }
   ],
   "source": [
    "print(\"Dimensionen: \", end='')\n",
    "print(df.shape)\n"
   ]
  },
  {
   "cell_type": "markdown",
   "metadata": {},
   "source": [
    "##### Ergebnis\n",
    "406 Dimensionen á 9 Datenpunkte"
   ]
  },
  {
   "cell_type": "code",
   "execution_count": 45,
   "metadata": {},
   "outputs": [
    {
     "name": "stdout",
     "output_type": "stream",
     "text": [
      "<class 'pandas.core.frame.DataFrame'>\n",
      "RangeIndex: 406 entries, 0 to 405\n",
      "Data columns (total 9 columns):\n",
      "mpg             398 non-null float64\n",
      "cylinders       406 non-null float64\n",
      "displacement    406 non-null float64\n",
      "horsepower      400 non-null float64\n",
      "weight          406 non-null float64\n",
      "acceleration    406 non-null float64\n",
      "model year      406 non-null float64\n",
      "origin          406 non-null float64\n",
      "car name        406 non-null object\n",
      "dtypes: float64(8), object(1)\n",
      "memory usage: 28.6+ KB\n"
     ]
    }
   ],
   "source": [
    "df.info()"
   ]
  },
  {
   "cell_type": "markdown",
   "metadata": {},
   "source": [
    "### Auszug der ersten 15 Datensätze"
   ]
  },
  {
   "cell_type": "code",
   "execution_count": 46,
   "metadata": {},
   "outputs": [
    {
     "data": {
      "text/html": [
       "<div>\n",
       "<style scoped>\n",
       "    .dataframe tbody tr th:only-of-type {\n",
       "        vertical-align: middle;\n",
       "    }\n",
       "\n",
       "    .dataframe tbody tr th {\n",
       "        vertical-align: top;\n",
       "    }\n",
       "\n",
       "    .dataframe thead th {\n",
       "        text-align: right;\n",
       "    }\n",
       "</style>\n",
       "<table border=\"1\" class=\"dataframe\">\n",
       "  <thead>\n",
       "    <tr style=\"text-align: right;\">\n",
       "      <th></th>\n",
       "      <th>mpg</th>\n",
       "      <th>cylinders</th>\n",
       "      <th>displacement</th>\n",
       "      <th>horsepower</th>\n",
       "      <th>weight</th>\n",
       "      <th>acceleration</th>\n",
       "      <th>model year</th>\n",
       "      <th>origin</th>\n",
       "      <th>car name</th>\n",
       "    </tr>\n",
       "  </thead>\n",
       "  <tbody>\n",
       "    <tr>\n",
       "      <th>0</th>\n",
       "      <td>18.00</td>\n",
       "      <td>8.00</td>\n",
       "      <td>307.00</td>\n",
       "      <td>130.00</td>\n",
       "      <td>3,504.00</td>\n",
       "      <td>12.00</td>\n",
       "      <td>70.00</td>\n",
       "      <td>1.00</td>\n",
       "      <td>chevrolet chevelle malibu</td>\n",
       "    </tr>\n",
       "    <tr>\n",
       "      <th>1</th>\n",
       "      <td>15.00</td>\n",
       "      <td>8.00</td>\n",
       "      <td>350.00</td>\n",
       "      <td>165.00</td>\n",
       "      <td>3,693.00</td>\n",
       "      <td>11.50</td>\n",
       "      <td>70.00</td>\n",
       "      <td>1.00</td>\n",
       "      <td>buick skylark 320</td>\n",
       "    </tr>\n",
       "    <tr>\n",
       "      <th>2</th>\n",
       "      <td>18.00</td>\n",
       "      <td>8.00</td>\n",
       "      <td>318.00</td>\n",
       "      <td>150.00</td>\n",
       "      <td>3,436.00</td>\n",
       "      <td>11.00</td>\n",
       "      <td>70.00</td>\n",
       "      <td>1.00</td>\n",
       "      <td>plymouth satellite</td>\n",
       "    </tr>\n",
       "    <tr>\n",
       "      <th>3</th>\n",
       "      <td>16.00</td>\n",
       "      <td>8.00</td>\n",
       "      <td>304.00</td>\n",
       "      <td>150.00</td>\n",
       "      <td>3,433.00</td>\n",
       "      <td>12.00</td>\n",
       "      <td>70.00</td>\n",
       "      <td>1.00</td>\n",
       "      <td>amc rebel sst</td>\n",
       "    </tr>\n",
       "    <tr>\n",
       "      <th>4</th>\n",
       "      <td>17.00</td>\n",
       "      <td>8.00</td>\n",
       "      <td>302.00</td>\n",
       "      <td>140.00</td>\n",
       "      <td>3,449.00</td>\n",
       "      <td>10.50</td>\n",
       "      <td>70.00</td>\n",
       "      <td>1.00</td>\n",
       "      <td>ford torino</td>\n",
       "    </tr>\n",
       "    <tr>\n",
       "      <th>5</th>\n",
       "      <td>15.00</td>\n",
       "      <td>8.00</td>\n",
       "      <td>429.00</td>\n",
       "      <td>198.00</td>\n",
       "      <td>4,341.00</td>\n",
       "      <td>10.00</td>\n",
       "      <td>70.00</td>\n",
       "      <td>1.00</td>\n",
       "      <td>ford galaxie 500</td>\n",
       "    </tr>\n",
       "    <tr>\n",
       "      <th>6</th>\n",
       "      <td>14.00</td>\n",
       "      <td>8.00</td>\n",
       "      <td>454.00</td>\n",
       "      <td>220.00</td>\n",
       "      <td>4,354.00</td>\n",
       "      <td>9.00</td>\n",
       "      <td>70.00</td>\n",
       "      <td>1.00</td>\n",
       "      <td>chevrolet impala</td>\n",
       "    </tr>\n",
       "    <tr>\n",
       "      <th>7</th>\n",
       "      <td>14.00</td>\n",
       "      <td>8.00</td>\n",
       "      <td>440.00</td>\n",
       "      <td>215.00</td>\n",
       "      <td>4,312.00</td>\n",
       "      <td>8.50</td>\n",
       "      <td>70.00</td>\n",
       "      <td>1.00</td>\n",
       "      <td>plymouth fury iii</td>\n",
       "    </tr>\n",
       "    <tr>\n",
       "      <th>8</th>\n",
       "      <td>14.00</td>\n",
       "      <td>8.00</td>\n",
       "      <td>455.00</td>\n",
       "      <td>225.00</td>\n",
       "      <td>4,425.00</td>\n",
       "      <td>10.00</td>\n",
       "      <td>70.00</td>\n",
       "      <td>1.00</td>\n",
       "      <td>pontiac catalina</td>\n",
       "    </tr>\n",
       "    <tr>\n",
       "      <th>9</th>\n",
       "      <td>15.00</td>\n",
       "      <td>8.00</td>\n",
       "      <td>390.00</td>\n",
       "      <td>190.00</td>\n",
       "      <td>3,850.00</td>\n",
       "      <td>8.50</td>\n",
       "      <td>70.00</td>\n",
       "      <td>1.00</td>\n",
       "      <td>amc ambassador dpl</td>\n",
       "    </tr>\n",
       "    <tr>\n",
       "      <th>10</th>\n",
       "      <td>nan</td>\n",
       "      <td>4.00</td>\n",
       "      <td>133.00</td>\n",
       "      <td>115.00</td>\n",
       "      <td>3,090.00</td>\n",
       "      <td>17.50</td>\n",
       "      <td>70.00</td>\n",
       "      <td>2.00</td>\n",
       "      <td>citroen ds-21 pallas</td>\n",
       "    </tr>\n",
       "    <tr>\n",
       "      <th>11</th>\n",
       "      <td>nan</td>\n",
       "      <td>8.00</td>\n",
       "      <td>350.00</td>\n",
       "      <td>165.00</td>\n",
       "      <td>4,142.00</td>\n",
       "      <td>11.50</td>\n",
       "      <td>70.00</td>\n",
       "      <td>1.00</td>\n",
       "      <td>chevrolet chevelle concours (sw)</td>\n",
       "    </tr>\n",
       "    <tr>\n",
       "      <th>12</th>\n",
       "      <td>nan</td>\n",
       "      <td>8.00</td>\n",
       "      <td>351.00</td>\n",
       "      <td>153.00</td>\n",
       "      <td>4,034.00</td>\n",
       "      <td>11.00</td>\n",
       "      <td>70.00</td>\n",
       "      <td>1.00</td>\n",
       "      <td>ford torino (sw)</td>\n",
       "    </tr>\n",
       "    <tr>\n",
       "      <th>13</th>\n",
       "      <td>nan</td>\n",
       "      <td>8.00</td>\n",
       "      <td>383.00</td>\n",
       "      <td>175.00</td>\n",
       "      <td>4,166.00</td>\n",
       "      <td>10.50</td>\n",
       "      <td>70.00</td>\n",
       "      <td>1.00</td>\n",
       "      <td>plymouth satellite (sw)</td>\n",
       "    </tr>\n",
       "    <tr>\n",
       "      <th>14</th>\n",
       "      <td>nan</td>\n",
       "      <td>8.00</td>\n",
       "      <td>360.00</td>\n",
       "      <td>175.00</td>\n",
       "      <td>3,850.00</td>\n",
       "      <td>11.00</td>\n",
       "      <td>70.00</td>\n",
       "      <td>1.00</td>\n",
       "      <td>amc rebel sst (sw)</td>\n",
       "    </tr>\n",
       "  </tbody>\n",
       "</table>\n",
       "</div>"
      ],
      "text/plain": [
       "     mpg  cylinders  displacement  horsepower   weight  acceleration  \\\n",
       "0  18.00       8.00        307.00      130.00 3,504.00         12.00   \n",
       "1  15.00       8.00        350.00      165.00 3,693.00         11.50   \n",
       "2  18.00       8.00        318.00      150.00 3,436.00         11.00   \n",
       "3  16.00       8.00        304.00      150.00 3,433.00         12.00   \n",
       "4  17.00       8.00        302.00      140.00 3,449.00         10.50   \n",
       "5  15.00       8.00        429.00      198.00 4,341.00         10.00   \n",
       "6  14.00       8.00        454.00      220.00 4,354.00          9.00   \n",
       "7  14.00       8.00        440.00      215.00 4,312.00          8.50   \n",
       "8  14.00       8.00        455.00      225.00 4,425.00         10.00   \n",
       "9  15.00       8.00        390.00      190.00 3,850.00          8.50   \n",
       "10   nan       4.00        133.00      115.00 3,090.00         17.50   \n",
       "11   nan       8.00        350.00      165.00 4,142.00         11.50   \n",
       "12   nan       8.00        351.00      153.00 4,034.00         11.00   \n",
       "13   nan       8.00        383.00      175.00 4,166.00         10.50   \n",
       "14   nan       8.00        360.00      175.00 3,850.00         11.00   \n",
       "\n",
       "    model year  origin                          car name  \n",
       "0        70.00    1.00         chevrolet chevelle malibu  \n",
       "1        70.00    1.00                 buick skylark 320  \n",
       "2        70.00    1.00                plymouth satellite  \n",
       "3        70.00    1.00                     amc rebel sst  \n",
       "4        70.00    1.00                       ford torino  \n",
       "5        70.00    1.00                  ford galaxie 500  \n",
       "6        70.00    1.00                  chevrolet impala  \n",
       "7        70.00    1.00                 plymouth fury iii  \n",
       "8        70.00    1.00                  pontiac catalina  \n",
       "9        70.00    1.00                amc ambassador dpl  \n",
       "10       70.00    2.00              citroen ds-21 pallas  \n",
       "11       70.00    1.00  chevrolet chevelle concours (sw)  \n",
       "12       70.00    1.00                  ford torino (sw)  \n",
       "13       70.00    1.00           plymouth satellite (sw)  \n",
       "14       70.00    1.00                amc rebel sst (sw)  "
      ]
     },
     "execution_count": 46,
     "metadata": {},
     "output_type": "execute_result"
    }
   ],
   "source": [
    "# show top 15 of table\n",
    "df.head(15)"
   ]
  },
  {
   "cell_type": "markdown",
   "metadata": {},
   "source": [
    "Wie man in den Datensätzen 10 bis 14 sehen kann, sind die Datensätze nicht alle vollständig. Deswegen würde es sich im nächsten Schritt anbieten, die Daten von unvollständigen Datensätzen zu bereinigen."
   ]
  },
  {
   "cell_type": "markdown",
   "metadata": {},
   "source": [
    "### Statistische Tabelle ohne Bereinigung"
   ]
  },
  {
   "cell_type": "code",
   "execution_count": null,
   "metadata": {
    "scrolled": true
   },
   "outputs": [
    {
     "data": {
      "text/html": [
       "<div>\n",
       "<style scoped>\n",
       "    .dataframe tbody tr th:only-of-type {\n",
       "        vertical-align: middle;\n",
       "    }\n",
       "\n",
       "    .dataframe tbody tr th {\n",
       "        vertical-align: top;\n",
       "    }\n",
       "\n",
       "    .dataframe thead th {\n",
       "        text-align: right;\n",
       "    }\n",
       "</style>\n",
       "<table border=\"1\" class=\"dataframe\">\n",
       "  <thead>\n",
       "    <tr style=\"text-align: right;\">\n",
       "      <th></th>\n",
       "      <th>mpg</th>\n",
       "      <th>cylinders</th>\n",
       "      <th>displacement</th>\n",
       "      <th>horsepower</th>\n",
       "      <th>weight</th>\n",
       "      <th>acceleration</th>\n",
       "      <th>model year</th>\n",
       "      <th>origin</th>\n",
       "    </tr>\n",
       "  </thead>\n",
       "  <tbody>\n",
       "    <tr>\n",
       "      <th>count</th>\n",
       "      <td>398.00</td>\n",
       "      <td>406.00</td>\n",
       "      <td>406.00</td>\n",
       "      <td>400.00</td>\n",
       "      <td>406.00</td>\n",
       "      <td>406.00</td>\n",
       "      <td>406.00</td>\n",
       "      <td>406.00</td>\n",
       "    </tr>\n",
       "    <tr>\n",
       "      <th>mean</th>\n",
       "      <td>23.51</td>\n",
       "      <td>5.48</td>\n",
       "      <td>194.78</td>\n",
       "      <td>105.08</td>\n",
       "      <td>2,979.41</td>\n",
       "      <td>15.52</td>\n",
       "      <td>75.92</td>\n",
       "      <td>1.57</td>\n",
       "    </tr>\n",
       "    <tr>\n",
       "      <th>std</th>\n",
       "      <td>7.82</td>\n",
       "      <td>1.71</td>\n",
       "      <td>104.92</td>\n",
       "      <td>38.77</td>\n",
       "      <td>847.00</td>\n",
       "      <td>2.80</td>\n",
       "      <td>3.75</td>\n",
       "      <td>0.80</td>\n",
       "    </tr>\n",
       "    <tr>\n",
       "      <th>min</th>\n",
       "      <td>9.00</td>\n",
       "      <td>3.00</td>\n",
       "      <td>68.00</td>\n",
       "      <td>46.00</td>\n",
       "      <td>1,613.00</td>\n",
       "      <td>8.00</td>\n",
       "      <td>70.00</td>\n",
       "      <td>1.00</td>\n",
       "    </tr>\n",
       "    <tr>\n",
       "      <th>25%</th>\n",
       "      <td>17.50</td>\n",
       "      <td>4.00</td>\n",
       "      <td>105.00</td>\n",
       "      <td>75.75</td>\n",
       "      <td>2,226.50</td>\n",
       "      <td>13.70</td>\n",
       "      <td>73.00</td>\n",
       "      <td>1.00</td>\n",
       "    </tr>\n",
       "    <tr>\n",
       "      <th>50%</th>\n",
       "      <td>23.00</td>\n",
       "      <td>4.00</td>\n",
       "      <td>151.00</td>\n",
       "      <td>95.00</td>\n",
       "      <td>2,822.50</td>\n",
       "      <td>15.50</td>\n",
       "      <td>76.00</td>\n",
       "      <td>1.00</td>\n",
       "    </tr>\n",
       "    <tr>\n",
       "      <th>75%</th>\n",
       "      <td>29.00</td>\n",
       "      <td>8.00</td>\n",
       "      <td>302.00</td>\n",
       "      <td>130.00</td>\n",
       "      <td>3,618.25</td>\n",
       "      <td>17.17</td>\n",
       "      <td>79.00</td>\n",
       "      <td>2.00</td>\n",
       "    </tr>\n",
       "    <tr>\n",
       "      <th>max</th>\n",
       "      <td>46.60</td>\n",
       "      <td>8.00</td>\n",
       "      <td>455.00</td>\n",
       "      <td>230.00</td>\n",
       "      <td>5,140.00</td>\n",
       "      <td>24.80</td>\n",
       "      <td>82.00</td>\n",
       "      <td>3.00</td>\n",
       "    </tr>\n",
       "  </tbody>\n",
       "</table>\n",
       "</div>"
      ],
      "text/plain": [
       "         mpg  cylinders  displacement  horsepower   weight  acceleration  \\\n",
       "count 398.00     406.00        406.00      400.00   406.00        406.00   \n",
       "mean   23.51       5.48        194.78      105.08 2,979.41         15.52   \n",
       "std     7.82       1.71        104.92       38.77   847.00          2.80   \n",
       "min     9.00       3.00         68.00       46.00 1,613.00          8.00   \n",
       "25%    17.50       4.00        105.00       75.75 2,226.50         13.70   \n",
       "50%    23.00       4.00        151.00       95.00 2,822.50         15.50   \n",
       "75%    29.00       8.00        302.00      130.00 3,618.25         17.17   \n",
       "max    46.60       8.00        455.00      230.00 5,140.00         24.80   \n",
       "\n",
       "       model year  origin  \n",
       "count      406.00  406.00  \n",
       "mean        75.92    1.57  \n",
       "std          3.75    0.80  \n",
       "min         70.00    1.00  \n",
       "25%         73.00    1.00  \n",
       "50%         76.00    1.00  \n",
       "75%         79.00    2.00  \n",
       "max         82.00    3.00  "
      ]
     },
     "execution_count": 47,
     "metadata": {},
     "output_type": "execute_result"
    }
   ],
   "source": [
    "# Describe the data\n",
    "df.describe()"
   ]
  },
  {
   "cell_type": "markdown",
   "metadata": {},
   "source": [
    "### Statistische Tabelle mit Bereinigung"
   ]
  },
  {
   "cell_type": "code",
   "execution_count": null,
   "metadata": {},
   "outputs": [
    {
     "name": "stdout",
     "output_type": "stream",
     "text": [
      "Dimensions after corretion: (392, 9)\n"
     ]
    },
    {
     "data": {
      "text/html": [
       "<div>\n",
       "<style scoped>\n",
       "    .dataframe tbody tr th:only-of-type {\n",
       "        vertical-align: middle;\n",
       "    }\n",
       "\n",
       "    .dataframe tbody tr th {\n",
       "        vertical-align: top;\n",
       "    }\n",
       "\n",
       "    .dataframe thead th {\n",
       "        text-align: right;\n",
       "    }\n",
       "</style>\n",
       "<table border=\"1\" class=\"dataframe\">\n",
       "  <thead>\n",
       "    <tr style=\"text-align: right;\">\n",
       "      <th></th>\n",
       "      <th>mpg</th>\n",
       "      <th>cylinders</th>\n",
       "      <th>displacement</th>\n",
       "      <th>horsepower</th>\n",
       "      <th>weight</th>\n",
       "      <th>acceleration</th>\n",
       "      <th>model year</th>\n",
       "      <th>origin</th>\n",
       "    </tr>\n",
       "  </thead>\n",
       "  <tbody>\n",
       "    <tr>\n",
       "      <th>count</th>\n",
       "      <td>392.00</td>\n",
       "      <td>392.00</td>\n",
       "      <td>392.00</td>\n",
       "      <td>392.00</td>\n",
       "      <td>392.00</td>\n",
       "      <td>392.00</td>\n",
       "      <td>392.00</td>\n",
       "      <td>392.00</td>\n",
       "    </tr>\n",
       "    <tr>\n",
       "      <th>mean</th>\n",
       "      <td>23.45</td>\n",
       "      <td>5.47</td>\n",
       "      <td>194.41</td>\n",
       "      <td>104.47</td>\n",
       "      <td>2,977.58</td>\n",
       "      <td>15.54</td>\n",
       "      <td>75.98</td>\n",
       "      <td>1.58</td>\n",
       "    </tr>\n",
       "    <tr>\n",
       "      <th>std</th>\n",
       "      <td>7.81</td>\n",
       "      <td>1.71</td>\n",
       "      <td>104.64</td>\n",
       "      <td>38.49</td>\n",
       "      <td>849.40</td>\n",
       "      <td>2.76</td>\n",
       "      <td>3.68</td>\n",
       "      <td>0.81</td>\n",
       "    </tr>\n",
       "    <tr>\n",
       "      <th>min</th>\n",
       "      <td>9.00</td>\n",
       "      <td>3.00</td>\n",
       "      <td>68.00</td>\n",
       "      <td>46.00</td>\n",
       "      <td>1,613.00</td>\n",
       "      <td>8.00</td>\n",
       "      <td>70.00</td>\n",
       "      <td>1.00</td>\n",
       "    </tr>\n",
       "    <tr>\n",
       "      <th>25%</th>\n",
       "      <td>17.00</td>\n",
       "      <td>4.00</td>\n",
       "      <td>105.00</td>\n",
       "      <td>75.00</td>\n",
       "      <td>2,225.25</td>\n",
       "      <td>13.78</td>\n",
       "      <td>73.00</td>\n",
       "      <td>1.00</td>\n",
       "    </tr>\n",
       "    <tr>\n",
       "      <th>50%</th>\n",
       "      <td>22.75</td>\n",
       "      <td>4.00</td>\n",
       "      <td>151.00</td>\n",
       "      <td>93.50</td>\n",
       "      <td>2,803.50</td>\n",
       "      <td>15.50</td>\n",
       "      <td>76.00</td>\n",
       "      <td>1.00</td>\n",
       "    </tr>\n",
       "    <tr>\n",
       "      <th>75%</th>\n",
       "      <td>29.00</td>\n",
       "      <td>8.00</td>\n",
       "      <td>275.75</td>\n",
       "      <td>126.00</td>\n",
       "      <td>3,614.75</td>\n",
       "      <td>17.02</td>\n",
       "      <td>79.00</td>\n",
       "      <td>2.00</td>\n",
       "    </tr>\n",
       "    <tr>\n",
       "      <th>max</th>\n",
       "      <td>46.60</td>\n",
       "      <td>8.00</td>\n",
       "      <td>455.00</td>\n",
       "      <td>230.00</td>\n",
       "      <td>5,140.00</td>\n",
       "      <td>24.80</td>\n",
       "      <td>82.00</td>\n",
       "      <td>3.00</td>\n",
       "    </tr>\n",
       "  </tbody>\n",
       "</table>\n",
       "</div>"
      ],
      "text/plain": [
       "         mpg  cylinders  displacement  horsepower   weight  acceleration  \\\n",
       "count 392.00     392.00        392.00      392.00   392.00        392.00   \n",
       "mean   23.45       5.47        194.41      104.47 2,977.58         15.54   \n",
       "std     7.81       1.71        104.64       38.49   849.40          2.76   \n",
       "min     9.00       3.00         68.00       46.00 1,613.00          8.00   \n",
       "25%    17.00       4.00        105.00       75.00 2,225.25         13.78   \n",
       "50%    22.75       4.00        151.00       93.50 2,803.50         15.50   \n",
       "75%    29.00       8.00        275.75      126.00 3,614.75         17.02   \n",
       "max    46.60       8.00        455.00      230.00 5,140.00         24.80   \n",
       "\n",
       "       model year  origin  \n",
       "count      392.00  392.00  \n",
       "mean        75.98    1.58  \n",
       "std          3.68    0.81  \n",
       "min         70.00    1.00  \n",
       "25%         73.00    1.00  \n",
       "50%         76.00    1.00  \n",
       "75%         79.00    2.00  \n",
       "max         82.00    3.00  "
      ]
     },
     "execution_count": 48,
     "metadata": {},
     "output_type": "execute_result"
    }
   ],
   "source": [
    "df_with_correction = df[df['mpg'].notnull()]\n",
    "df_with_correction = df_with_correction[df_with_correction['horsepower'].notnull()]\n",
    "print('Dimensions after corretion: ', end='')\n",
    "print(df_with_correction.shape)\n",
    "df_with_correction.describe()"
   ]
  },
  {
   "cell_type": "markdown",
   "metadata": {},
   "source": [
    "Nach der Bereinigung wurden 14 Datensätze entfernt. Dies führte dazu, dass sich die statistischen Kennwerte teilweise noch verändert haben (Vergleiche statistische Tabellen). "
   ]
  },
  {
   "cell_type": "markdown",
   "metadata": {},
   "source": [
    "### Verteilung einzelner Attribute"
   ]
  },
  {
   "cell_type": "code",
   "execution_count": null,
   "metadata": {},
   "outputs": [
    {
     "name": "stdout",
     "output_type": "stream",
     "text": [
      "Cylinders\n",
      "4.00    199\n",
      "8.00    103\n",
      "6.00     83\n",
      "3.00      4\n",
      "5.00      3\n",
      "Name: cylinders, dtype: int64\n"
     ]
    },
    {
     "name": "stderr",
     "output_type": "stream",
     "text": [
      "/home/mosera/anaconda3/lib/python3.7/site-packages/ipykernel_launcher.py:3: FutureWarning: Method .as_matrix will be removed in a future version. Use .values instead.\n",
      "  This is separate from the ipykernel package so we can avoid doing imports until\n"
     ]
    },
    {
     "data": {
      "image/png": "[encoded data removed]",
      "text/plain": [
       "<Figure size 432x288 with 1 Axes>"
      ]
     },
     "metadata": {},
     "output_type": "display_data"
    }
   ],
   "source": [
    "print('Cylinders')\n",
    "#print(df_with_correction['cylinders'].unique())\n",
    "cylinder_count_array = df_with_correction['cylinders'].value_counts().as_matrix()\n",
    "cylinder_label_array = df_with_correction['cylinders'].unique() \n",
    "print(df_with_correction['cylinders'].value_counts())\n",
    "\n",
    "index = np.arange(len(cylinder_label_array))\n",
    "bar_width = 0.35\n",
    "\n",
    "plt.bar(cylinder_label_array, cylinder_count_array, align='center', alpha=0.5, facecolor='purple')\n",
    "plt.xticks(cylinder_label_array)\n",
    "plt.xlabel('Cylinder')\n",
    "plt.ylabel('Count')\n",
    "plt.title('Bar chart of Cylinders')\n",
    "plt.grid(True)\n",
    "plt.show()"
   ]
  },
  {
   "cell_type": "markdown",
   "metadata": {},
   "source": [
    "Hier fällt auf, dass kaum Datensätze mit einer Zylinderzahl von 3 oder 5 gegeben sind. Dies könnte später bei der Klassifikation der Zylinder in Aufgabe 3 zu Problemen führen."
   ]
  },
  {
   "cell_type": "code",
   "execution_count": null,
   "metadata": {},
   "outputs": [
    {
     "name": "stdout",
     "output_type": "stream",
     "text": [
      "Origin\n",
      "1.00    245\n",
      "3.00     79\n",
      "2.00     68\n",
      "Name: origin, dtype: int64\n"
     ]
    },
    {
     "name": "stderr",
     "output_type": "stream",
     "text": [
      "/home/mosera/anaconda3/lib/python3.7/site-packages/ipykernel_launcher.py:3: FutureWarning: Method .as_matrix will be removed in a future version. Use .values instead.\n",
      "  This is separate from the ipykernel package so we can avoid doing imports until\n"
     ]
    },
    {
     "data": {
      "image/png": "[encoded data removed]",
      "text/plain": [
       "<Figure size 432x288 with 1 Axes>"
      ]
     },
     "metadata": {},
     "output_type": "display_data"
    }
   ],
   "source": [
    "print('Origin')\n",
    "#print(df_with_correction['cylinders'].unique())\n",
    "cylinder_count_array = df_with_correction['origin'].value_counts().as_matrix()\n",
    "cylinder_label_array = df_with_correction['origin'].unique() \n",
    "print(df_with_correction['origin'].value_counts())\n",
    "\n",
    "index = np.arange(len(cylinder_label_array))\n",
    "bar_width = 0.35\n",
    "\n",
    "plt.bar(cylinder_label_array, cylinder_count_array, align='center', alpha=0.5, facecolor='pink')\n",
    "plt.xticks(cylinder_label_array)\n",
    "plt.xlabel('Origin')\n",
    "plt.ylabel('Count')\n",
    "plt.title('Bar chart of origin')\n",
    "plt.grid(True)\n",
    "plt.show()"
   ]
  },
  {
   "cell_type": "code",
   "execution_count": null,
   "metadata": {},
   "outputs": [
    {
     "name": "stdout",
     "output_type": "stream",
     "text": [
      "Model year\n",
      "73.00    40\n",
      "78.00    36\n",
      "76.00    34\n",
      "82.00    30\n",
      "75.00    30\n",
      "79.00    29\n",
      "70.00    29\n",
      "81.00    28\n",
      "77.00    28\n",
      "72.00    28\n",
      "80.00    27\n",
      "71.00    27\n",
      "74.00    26\n",
      "Name: model year, dtype: int64\n"
     ]
    },
    {
     "name": "stderr",
     "output_type": "stream",
     "text": [
      "/home/mosera/anaconda3/lib/python3.7/site-packages/ipykernel_launcher.py:3: FutureWarning: Method .as_matrix will be removed in a future version. Use .values instead.\n",
      "  This is separate from the ipykernel package so we can avoid doing imports until\n"
     ]
    },
    {
     "data": {
      "image/png": "[encoded data removed]",
      "text/plain": [
       "<Figure size 432x288 with 1 Axes>"
      ]
     },
     "metadata": {},
     "output_type": "display_data"
    }
   ],
   "source": [
    "print('Model year')\n",
    "#print(df_with_correction['cylinders'].unique())\n",
    "cylinder_count_array = df_with_correction['model year'].value_counts().as_matrix()\n",
    "cylinder_label_array = df_with_correction['model year'].unique() \n",
    "print(df_with_correction['model year'].value_counts())\n",
    "\n",
    "index = np.arange(len(cylinder_label_array))\n",
    "bar_width = 0.35\n",
    "\n",
    "plt.bar(cylinder_label_array, cylinder_count_array, align='center', alpha=0.5, facecolor='black')\n",
    "plt.xticks(cylinder_label_array)\n",
    "plt.xlabel('Model year')\n",
    "plt.ylabel('Count')\n",
    "plt.title('Bar chart of model year')\n",
    "plt.grid(True)\n",
    "plt.show()"
   ]
  },
  {
   "cell_type": "code",
   "execution_count": null,
   "metadata": {},
   "outputs": [
    {
     "data": {
      "image/png": "[encoded data removed]",
      "text/plain": [
       "<Figure size 432x288 with 1 Axes>"
      ]
     },
     "metadata": {},
     "output_type": "display_data"
    },
    {
     "data": {
      "image/png": "[encoded data removed]",
      "text/plain": [
       "<Figure size 432x288 with 1 Axes>"
      ]
     },
     "metadata": {},
     "output_type": "display_data"
    },
    {
     "data": {
      "image/png": "[encoded data removed]",
      "text/plain": [
       "<Figure size 432x288 with 1 Axes>"
      ]
     },
     "metadata": {},
     "output_type": "display_data"
    },
    {
     "data": {
      "image/png": "[encoded data removed]",
      "text/plain": [
       "<Figure size 432x288 with 1 Axes>"
      ]
     },
     "metadata": {},
     "output_type": "display_data"
    },
    {
     "data": {
      "image/png": "[encoded data removed]",
      "text/plain": [
       "<Figure size 432x288 with 1 Axes>"
      ]
     },
     "metadata": {},
     "output_type": "display_data"
    }
   ],
   "source": [
    "# MPG\n",
    "plt.hist(df_with_correction['mpg'], 30, alpha=0.5, facecolor='g')\n",
    "plt.xlabel('MPG')\n",
    "plt.ylabel('Count')\n",
    "plt.title('Histogram of MPG')\n",
    "plt.grid(True)\n",
    "plt.show()\n",
    "\n",
    "# Displacement\n",
    "plt.hist(df_with_correction['displacement'], 30, alpha=0.5, facecolor='y')\n",
    "plt.xlabel('Displacement')\n",
    "plt.ylabel('Count')\n",
    "plt.title('Histogram of Displacement')\n",
    "plt.grid(True)\n",
    "plt.show()\n",
    "\n",
    "# Horsepower\n",
    "plt.hist(df_with_correction['horsepower'], 30, alpha=0.5, facecolor='b')\n",
    "plt.xlabel('Horsepower')\n",
    "plt.ylabel('Count')\n",
    "plt.title('Histogram of Horsepower')\n",
    "plt.grid(True)\n",
    "plt.show()\n",
    "\n",
    "# Weight\n",
    "plt.hist(df_with_correction['weight'], 30, alpha=0.5, facecolor='r')\n",
    "plt.xlabel('Weight')\n",
    "plt.ylabel('Count')\n",
    "plt.title('Histogram of Weight')\n",
    "plt.grid(True)\n",
    "plt.show()\n",
    "\n",
    "# Acceleration\n",
    "plt.hist(df_with_correction['acceleration'], 30, alpha=0.5, facecolor='brown')\n",
    "plt.xlabel('Acceleration')\n",
    "plt.ylabel('Count')\n",
    "plt.title('Histogram of Acceleration')\n",
    "plt.grid(True)\n",
    "plt.show()"
   ]
  },
  {
   "cell_type": "markdown",
   "metadata": {},
   "source": [
    "### Visualisierung\n",
    "\n",
    "Da Zylinder, Generationen und Modelljahr diskrete Variablen sind, bietet es sich an, einen dieser Attribute inform von farblicher Hinterlegung in die paarweisen Diagramme mit einzubinden. Nachfolgend wurde sich für die Zylinderzahl entschieden. \n",
    "\n",
    "#### Paarweises Plotten "
   ]
  },
  {
   "cell_type": "code",
   "execution_count": null,
   "metadata": {},
   "outputs": [],
   "source": [
    "# This creates a matrix of axes and shows the relationship for each pair of columns in a DataFrame. by default, it also draws the univariate distribution of each variable on the diagonal Axes:\n",
    "cols=('mpg', 'displacement', 'horsepower', 'weight', 'acceleration')\n",
    "sns.set(color_codes=True)\n",
    "sns.pairplot(df_with_correction, hue='cylinders', vars=cols)"
   ]
  },
  {
   "cell_type": "markdown",
   "metadata": {},
   "source": [
    "#### Hervorhebung einzelner Diagramme"
   ]
  },
  {
   "cell_type": "code",
   "execution_count": null,
   "metadata": {},
   "outputs": [],
   "source": [
    "print('MPG')\n",
    "sns.catplot(x=\"cylinders\", y=\"mpg\", data=df_with_correction, kind=\"boxen\")\n"
   ]
  },
  {
   "cell_type": "markdown",
   "metadata": {},
   "source": [
    "Das erste Diagramm lässt vermuten, dass je niedriger die Zylinderzahl eines Autos ist desto höher ist die MPG (niedriger ist der Benzinverbrauch) (negative Korrelation). Allerdings fallen die Werte der 3-Zylinder-Fahrzeuge ein bisschen aus dieser Vermutung heraus. "
   ]
  },
  {
   "cell_type": "code",
   "execution_count": null,
   "metadata": {},
   "outputs": [],
   "source": [
    "np.corrcoef(df_with_correction['cylinders'], df_with_correction['mpg'] )\n"
   ]
  },
  {
   "cell_type": "markdown",
   "metadata": {},
   "source": [
    "Die Korrelation der beiden liegt bei -0.77, was für die vorherige Vermutung nochmal unterstreicht."
   ]
  },
  {
   "cell_type": "markdown",
   "metadata": {},
   "source": []
  },
  {
   "cell_type": "markdown",
   "metadata": {},
   "source": [
    "### Korrelation einzelner Attribute\n",
    "#### Gewicht und MPG\n"
   ]
  },
  {
   "cell_type": "code",
   "execution_count": null,
   "metadata": {},
   "outputs": [],
   "source": [
    "x = df_with_correction['weight']\n",
    "y = df_with_correction['mpg'] \n",
    "np.corrcoef(x, y)"
   ]
  },
  {
   "cell_type": "markdown",
   "metadata": {},
   "source": [
    "Die Korrelation zwischen Gewicht und MPG liegt bei -0.83, was bedeutet, dass eine sehr hohe negative Korrelation zwischen diesen Attributen vorliegt. Das heißt, dass je höher das Gewicht eines Fahrzeuges ist, desto höher ist der Spritverbrauch bzw. so geringer ist die MPG. Dies kann im Diagramm dadurch erkannt werden, dass die Punkte sich in näherer Umgebung der negativen Diagonal ansammeln."
   ]
  },
  {
   "cell_type": "code",
   "execution_count": null,
   "metadata": {},
   "outputs": [],
   "source": [
    "sns.stripplot(x=\"weight\", y=\"mpg\", data=df_with_correction, jitter=True)"
   ]
  },
  {
   "cell_type": "markdown",
   "metadata": {},
   "source": [
    "#### Beschleunigung und Hubraum"
   ]
  },
  {
   "cell_type": "code",
   "execution_count": null,
   "metadata": {},
   "outputs": [],
   "source": [
    "x = df_with_correction['acceleration']\n",
    "y = df_with_correction['displacement'] \n",
    "np.corrcoef(x, y)"
   ]
  },
  {
   "cell_type": "markdown",
   "metadata": {},
   "source": [
    "Zwischen PS und MPG gibt es eine mäßig bis hohe negative Korrelation. Hier ist es im Diagramm schon schwerer eine Diagonale zu erkennen, da die Punkte mehr ausreißen."
   ]
  },
  {
   "cell_type": "code",
   "execution_count": null,
   "metadata": {},
   "outputs": [],
   "source": [
    "sns.stripplot(x=\"acceleration\", y=\"displacement\", data=df_with_correction, jitter=True)"
   ]
  },
  {
   "cell_type": "markdown",
   "metadata": {},
   "source": [
    "#### Hubraum und Gewicht"
   ]
  },
  {
   "cell_type": "code",
   "execution_count": null,
   "metadata": {},
   "outputs": [],
   "source": [
    "x = df_with_correction['displacement']\n",
    "y = df_with_correction['weight'] \n",
    "np.corrcoef(x, y)"
   ]
  },
  {
   "cell_type": "markdown",
   "metadata": {},
   "source": [
    "Zwischen Hubraum und Gewicht gibt es eine hohe positive Korrelaton. (wenig Ausreißer im Diagramm)"
   ]
  },
  {
   "cell_type": "code",
   "execution_count": null,
   "metadata": {},
   "outputs": [],
   "source": [
    "sns.stripplot(x=\"displacement\", y=\"weight\", data=df_with_correction, jitter=True)"
   ]
  },
  {
   "cell_type": "markdown",
   "metadata": {},
   "source": [
    "# Nummer 2: Vorhersage der PS-Zahl\n",
    "\n",
    "## Aufgabe\n",
    "- Zwei verschiedene Vorhersageverfahren\n",
    "- PS-Zahl eines gegebenen Datensatzes vorhersagen\n",
    "\n",
    "### Weiterhin zu beantworten\n",
    "- Validieren und testen der Ergebnisse mit Evaluationsmethoden\n",
    "- Ergebnis der Verfahren vergleichbar optisch darstellen\n",
    "- Beschreibung des Endergebnisses\n",
    "- Diskussion, welche Lösung sich entschieden wird\n",
    "- Optimierung einer bis maximal drei Interationen\n",
    "- Kommentar, welche weitern Möglichkeiten es gibt\n",
    "- Methode\n",
    "  - Manuelle Eingabe Werte\n",
    "  - Vorhersage treffen \n",
    "  - Optische Darstellung"
   ]
  },
  {
   "cell_type": "markdown",
   "metadata": {},
   "source": [
    "### Weitere Importe"
   ]
  },
  {
   "cell_type": "code",
   "execution_count": null,
   "metadata": {},
   "outputs": [],
   "source": [
    "from sklearn import linear_model, metrics\n",
    "from sklearn.model_selection import train_test_split\n",
    "from numpy.polynomial.polynomial import polyfit\n",
    "from sklearn.tree import DecisionTreeRegressor\n",
    "#from sklearn import preprocessing\n",
    "from sklearn.model_selection import KFold"
   ]
  },
  {
   "cell_type": "markdown",
   "metadata": {},
   "source": [
    "### Funktionen"
   ]
  },
  {
   "cell_type": "code",
   "execution_count": null,
   "metadata": {},
   "outputs": [],
   "source": [
    "# function for horsepower prediction\n",
    "# ([],model)->([])\n",
    "def predict_horsepower(given_values, model):\n",
    "    prediction = model.predict(given_values)\n",
    "    print(\"Given=%s, Predicted Horsepower: %s\" % (given_values, prediction[0]))\n",
    "    return prediction\n",
    "\n",
    "def plot_overview_diagram(title, label, data):\n",
    "    x_train = data['x_train']\n",
    "    y_train = data['y_train']\n",
    "    x_test = data['x_test']\n",
    "    y_test = data['y_test']\n",
    "    y_predict = data['y_predict']\n",
    "    fig, ax = plt.subplots()\n",
    "    x_label_name = label['x']\n",
    "    y_label_name = label['y']\n",
    "\n",
    "    # Descriptions\n",
    "    plt.title(title)\n",
    "    plt.xlabel(x_label_name.capitalize())\n",
    "    plt.ylabel(y_label_name.capitalize())\n",
    "    \n",
    "    # Graphs\n",
    "    ax.scatter(x_train[x_label_name], y_train, color='yellow', label='train')\n",
    "    ax.scatter(x_test[x_label_name], y_test, color='blue', label='test')\n",
    "    ax.scatter(x_test[x_label_name], y_predict, color='red', label='predict')\n",
    "\n",
    "    # Polynomial curve fitting (linear)\n",
    "    b, m = polyfit(x_train[x_label_name], y_train, 1)\n",
    "    # Linear function\n",
    "    plt.plot(x_test[x_label_name], m * np.array(x_test[x_label_name]) + b, '--', color='green')\n",
    "\n",
    "    \n",
    "    legend = ax.legend(loc='upper left', shadow=True)\n",
    "\n",
    "    # Put a nicer background color on the legend.\n",
    "    legend.get_frame().set_facecolor('C0')\n",
    "\n",
    "    plt.show()\n",
    "    \n",
    "def print_scores(model, data):\n",
    "    # Accuracy\n",
    "    accuracy = get_accuracy(model, data)\n",
    "    print('Accuracy: ', accuracy)\n",
    "    # Mean squared error\n",
    "    mse = get_mse(data['y_test'], data['y_predict'])\n",
    "    print('Mean squared error: ', mse)\n",
    "    \n",
    "def get_accuracy(model, data):\n",
    "    return model.score(data['x_test'], data['y_test'])\n",
    "\n",
    "def get_mse(y_test, y_predict):\n",
    "    return metrics.mean_squared_error(y_test, y_predict)\n",
    "\n",
    "# formatfloat list to max 2 decimal format for a prettier output\n",
    "def format_float_list(float_list):\n",
    "    formatted_list = []\n",
    "    for el in float_list:\n",
    "        formatted_list.append('%.2f'%el)\n",
    "    return formatted_list"
   ]
  },
  {
   "cell_type": "markdown",
   "metadata": {},
   "source": [
    "##### Split dataframe into data and target valumes\n",
    "Data: ['mpg', 'cylinders', 'displacement', 'weight', 'acceleration', 'model year', 'origin']   \n",
    "Target: ['horsepower']"
   ]
  },
  {
   "cell_type": "code",
   "execution_count": null,
   "metadata": {},
   "outputs": [],
   "source": [
    "# split dataframe into  data and target\n",
    "x_t2 = pd.DataFrame(df_with_correction, columns=\\\n",
    "                    ['mpg', 'cylinders', 'displacement', 'weight', 'acceleration', 'model year', 'origin'])\n",
    "y_t2 = df_with_correction['horsepower']\n",
    "labels_t2 = {'x':'displacement', 'y': 'horsepower'}"
   ]
  },
  {
   "cell_type": "markdown",
   "metadata": {},
   "source": [
    "### Create random dataset"
   ]
  },
  {
   "cell_type": "code",
   "execution_count": null,
   "metadata": {},
   "outputs": [],
   "source": [
    "# create random training and testing vars\n",
    "data_random = dict()\n",
    "data_random['x_train'], data_random['x_test'], data_random['y_train'], data_random['y_test'] = \\\n",
    "            train_test_split(x_t2, y_t2, test_size=0.2)"
   ]
  },
  {
   "cell_type": "markdown",
   "metadata": {},
   "source": [
    "##### Train linear regression model with the random data"
   ]
  },
  {
   "cell_type": "code",
   "execution_count": null,
   "metadata": {},
   "outputs": [],
   "source": [
    "# Create linear regression model\n",
    "lm = linear_model.LinearRegression()\n",
    "# fit the model on the training data \n",
    "lm = lm.fit(data_random['x_train'], data_random['y_train'])\n",
    "\n",
    "data_random['y_predict'] = lm.predict(data_random['x_test'])\n",
    "# print out the first 10 predictions\n",
    "print(\"First 10 predictions for the random test data:\")\n",
    "print(data_random['y_predict'][0:10])\n",
    "print('\\n')\n",
    "\n",
    "# accuracy and mean squared error\n",
    "print_scores(lm, data_random)\n",
    "\n",
    "# diagram with predictions and true values\n",
    "# plot the model \n",
    "plt.scatter(data_random['y_test'], data_random['y_predict'])\n",
    "# descriptions\n",
    "plt.title(\"Predictions vs True values of a linear regression model with random data\")\n",
    "plt.xlabel(\"True values\")\n",
    "plt.ylabel(\"Predictions\")\n",
    "# diagonal (where prediction = real value)\n",
    "plt.plot(range(0,200), range(0,200), '--', color='green')"
   ]
  },
  {
   "cell_type": "markdown",
   "metadata": {},
   "source": [
    "Es fällt auf, dass das _Linear Regression Modell_ bereits ziemlich gut performt. Da es sich aber bei den verwendeten Test- und Trainingsgruppen um zufällig ausgewählten Daten aus dem Dataframe handel, kann daraus noch keine stichhaltiges Schlussfolgerung gezogen werden. Dies liegt daran, dass die ausgewählten Daten zufällig genau die Daten sein könnten, welche sehr gut mit einem Linear Regression Modell modelliert werden können. Deswegen wird im nächsten Schritt die **KFold cross validation** angewendet, um einen Mittelwert mit verschieden aufgeteilten Trainings- und Testdatensätzen zu bilden, um anschließend stichhaltigeres Schlussfolgerungen aus den Ergebnis erzielen zu können."
   ]
  },
  {
   "cell_type": "markdown",
   "metadata": {},
   "source": [
    "### KFold cross validation"
   ]
  },
  {
   "cell_type": "code",
   "execution_count": null,
   "metadata": {},
   "outputs": [],
   "source": [
    "from sklearn.model_selection import KFold\n",
    "kf = KFold(n_splits=10)\n",
    "print(kf)"
   ]
  },
  {
   "cell_type": "markdown",
   "metadata": {},
   "source": [
    "##### Wie KFold funktioniert"
   ]
  },
  {
   "cell_type": "code",
   "execution_count": null,
   "metadata": {},
   "outputs": [],
   "source": [
    "for train_index, test_index in kf.split(range(0,10)):\n",
    "    print(train_index, test_index)"
   ]
  },
  {
   "cell_type": "markdown",
   "metadata": {},
   "source": [
    "KFold splittet das gegebenen Datenset in n Datensatzbereiche auf, und benutzt dann anschließend immer einen der Datenbereiche als Test- und die restlichen als Trainingsdaten."
   ]
  },
  {
   "cell_type": "markdown",
   "metadata": {},
   "source": [
    "##### Extended Variation"
   ]
  },
  {
   "cell_type": "code",
   "execution_count": null,
   "metadata": {},
   "outputs": [],
   "source": [
    "from sklearn.model_selection import StratifiedKFold\n",
    "import statistics\n",
    "from sklearn.preprocessing import StandardScaler\n",
    "\n",
    "# folds = StratifiedKFold(n_splits=10)\n",
    "# similar to kfold\n",
    "# seperating all of your folds\n",
    "# devide each of your classification categories in a uniform way\n",
    "\n",
    "## arrays for storing information\n",
    "# linear regression\n",
    "acc_lr = [] # accuracy\n",
    "mse_lr = [] # mean squared error\n",
    "# decision tree\n",
    "acc_dt = [] # accuracy\n",
    "mse_dt = [] # mean squared error\n",
    "# test and train data array\n",
    "datas = []\n",
    "\n",
    "# init standard scaler (shift data to a mean of zero, and spread of 1 standard deviation)\n",
    "std = StandardScaler()\n",
    "std.fit(x_t2)\n",
    "\n",
    "\n",
    "for train_index, test_index in kf.split(x_t2):\n",
    "    data = dict()\n",
    "    data['x_train'], data['x_test'], data['y_train'], data['y_test'] = x_t2.iloc[train_index], x_t2.iloc[test_index], \\\n",
    "                                       y_t2.iloc[train_index], y_t2.iloc[test_index]\n",
    "\n",
    "    datas.append(data.copy())\n",
    "    \n",
    "    # normalise data\n",
    "    data['x_train'] = std.transform(data['x_train'])\n",
    "    data['x_test'] = std.transform(data['x_test'])\n",
    "\n",
    "    \n",
    "    # create models\n",
    "    lr_model = linear_model.LinearRegression()\n",
    "    dt_model = DecisionTreeRegressor(random_state=1)\n",
    "    \n",
    "    # train models \n",
    "    lr_model = lr_model.fit(data['x_train'], data['y_train'])\n",
    "    dt_model = dt_model.fit(data['x_train'], data['y_train'])\n",
    "    \n",
    "    # get accuracy\n",
    "    acc_lr.append(get_accuracy(lr_model ,data))\n",
    "    acc_dt.append(get_accuracy(dt_model, data))\n",
    "    \n",
    "    # get mean squared error \n",
    "    mse_lr.append(get_mse(data['y_test'], lr_model.predict(data['x_test'])))\n",
    "    mse_dt.append(get_mse(data['y_test'], dt_model.predict(data['x_test'])))\n",
    "    \n",
    "# There is also a shorter variation:\n",
    "\n",
    "## from sklearn.model_selection import cross_val_score\n",
    "## cross_val_score(linear_model.LinearRegression(), x_t2, y_t2, cv=10)"
   ]
  },
  {
   "cell_type": "markdown",
   "metadata": {},
   "source": [
    "### Results"
   ]
  },
  {
   "cell_type": "code",
   "execution_count": null,
   "metadata": {},
   "outputs": [],
   "source": [
    "print(\"\\nLinear Regression\")\n",
    "print(\"Accuracy:\")\n",
    "print(\"Results: \", format_float_list(acc_lr))\n",
    "print(\"Average: \", statistics.mean(acc_lr))\n",
    "print(\"Mean squared error:\")\n",
    "print(\"Results:\",format_float_list(mse_lr))\n",
    "print(\"Average: \", statistics.mean(mse_lr))\n",
    "\n",
    "print(\"\\nDecision Tree\")\n",
    "print(\"Accuracy:\")\n",
    "print(\"Results:\",format_float_list(acc_dt))\n",
    "print(\"Average: \", statistics.mean(acc_dt))\n",
    "print(\"Mean squared error:\")\n",
    "print(\"Results:\",format_float_list(mse_dt))\n",
    "print(\"Average: \", statistics.mean(mse_dt))"
   ]
  },
  {
   "cell_type": "markdown",
   "metadata": {},
   "source": [
    "Wie man aus dem oberen Ergebnis ablesen kann, erzielt das Linear Regression Modell auf denen gegebenen Datensätzen einen wesentlich bessere Präzision als das Decision Tree Modell. Die Präzision unterscheidet sich um knapp 8%. Auch der MSE ist beim Linear Regression Modell im Durchschnitt wesentlich besser. Aufgrunddessen sollte basierend auf den Daten das Linear Regression Modell dem Decision Tree Modell vorgezogen werden.\n",
    "\n",
    "Anschließend wird der zweite Datensatz für beide Modelle nochmal bildlich dargestellt, da beide auf diesem Modell die höchste Präzision erreicht haben."
   ]
  },
  {
   "cell_type": "markdown",
   "metadata": {},
   "source": [
    "#### Visualisierung"
   ]
  },
  {
   "cell_type": "code",
   "execution_count": null,
   "metadata": {},
   "outputs": [],
   "source": [
    "data_lr = datas[1].copy() # todo: maybechoose dynamic the best\n",
    "data_dt = datas[1].copy()\n",
    "\n",
    "\n",
    "lr_model = linear_model.LinearRegression()\n",
    "dt_model = DecisionTreeRegressor(random_state=1)\n",
    "\n",
    "\n",
    "# train models \n",
    "lr_model = lr_model.fit(data_lr['x_train'], data_lr['y_train'])\n",
    "dt_model = dt_model.fit(data_dt['x_train'], data_dt['y_train'])\n",
    "\n",
    "# predict y\n",
    "data_lr['y_predict'] = lr_model.predict(data_lr['x_test'])\n",
    "data_dt['y_predict'] = dt_model.predict(data_dt['x_test'])\n",
    "\n",
    "\n",
    "plot_overview_diagram('Overview Linear Regression', labels_t2, data_lr)\n",
    "plot_overview_diagram('Overview Decision Tree', labels_t2, data_dt)"
   ]
  },
  {
   "cell_type": "markdown",
   "metadata": {},
   "source": [
    "An den Diagrammen kann man erkennen, dass die beiden Modelle die PS-Werte der gegebenen Auto-Datensätze schon ziemlich gut voraussagen können (hohe Präzision). Allerdings fällt auf, dass das Decision Tree Modell ein paar mehr Ausreißer aufweist, was auf den höheren MSE zurückzuführen ist."
   ]
  },
  {
   "cell_type": "markdown",
   "metadata": {},
   "source": [
    "#### Vorhersage der PS eines Autos"
   ]
  },
  {
   "cell_type": "code",
   "execution_count": null,
   "metadata": {},
   "outputs": [],
   "source": [
    "from ipywidgets import widgets\n",
    "\n",
    "# this shitty form cost me like 4 hours wtf\n",
    "\n",
    "print(\"Predict Horsepower of a car: \\n\")\n",
    "\n",
    "# ['mpg', 'cylinders', 'displacement', 'weight', 'acceleration', 'model year', 'origin']\n",
    "textboxes = dict()\n",
    "default_values = {'mpg': '25.', 'cylinders': '4.' , 'displacement': '98.' , 'weight': '2046.', \\\n",
    "                   'acceleration': '19.', 'model year': '71.', 'origin': '1.'}\n",
    "\n",
    "\n",
    "for attr in default_values.keys():\n",
    "    textboxes[attr] = widgets.Text()\n",
    "    print(attr.capitalize())\n",
    "    textboxes[attr].value = default_values[attr]\n",
    "    display(textboxes[attr])\n",
    "\n",
    "\n",
    "\n",
    "submit_button = widgets.Button(description=\"Predict Horsepower\")\n",
    "display(submit_button)\n",
    "\n",
    "print(\"\\nPredicted horspower\")\n",
    "output_tb = widgets.Text()\n",
    "display(output_tb)\n",
    "\n",
    "def handle_button_click(b):\n",
    "    try:\n",
    "        data = read_out_infos()\n",
    "        output_tb.value = 'Linear Regression: {:.2f} \\n Decision Tree: {:.2f}'\\\n",
    "        .format(predict_horsepower(data, lr_model)[0], predict_horsepower(data, dt_model)[0])\n",
    "    except Exception as error:\n",
    "        output_tb.value = str(error)\n",
    "        \n",
    "        \n",
    "        \n",
    "    \n",
    "def read_out_infos():\n",
    "    #input_car['mpg'] =\n",
    "    data = [[]]\n",
    "    for attr_name in textboxes.keys():\n",
    "        value = textboxes[attr_name].value\n",
    "        if is_float(value):\n",
    "            data[0].append(float(value))\n",
    "        else:\n",
    "            raise Exception('Wrong datatype: Expected float got {} in textbox \\\"{}\\\"'.format(value, attr_name))\n",
    "    return data\n",
    "\n",
    "\n",
    "def is_float(value):\n",
    "    try:\n",
    "        float(value)\n",
    "        return True\n",
    "    except:\n",
    "        return False\n",
    "    \n",
    "    \n",
    "submit_button.on_click(handle_button_click)\n",
    "\n"
   ]
  },
  {
   "cell_type": "markdown",
   "metadata": {},
   "source": [
    "### Weitere Optimierungsmöglichkeiten\n",
    "\n",
    "1. Datensätze normalisieren (Check)\n",
    "2. Kategorische Daten in Variablen\n",
    "3. Feature Engineering\n",
    "    1. Sind meine Merkmale kollinear?\n",
    "    2. Haben meine Features Abhängigkeiten?\n",
    "4. Regulierung der Merkmale um ein Overfitting zu vermeiden\n",
    "\n"
   ]
  },
  {
   "cell_type": "markdown",
   "metadata": {},
   "source": [
    "# Nummer 3: \n",
    "\n",
    "## Aufgabe\n",
    "- zwei Klassifikationsverfahren\n",
    "- um Fahrzeuge bei sonstigen Daten eine Zylinderzahl zuzuordnen\n",
    "\n",
    "### Weiterhin zu beantworten\n",
    "- Validieren und testen der Ergebnisse mit Evaluationsmethoden\n",
    "- Ergebnis der Verfahren vergleichbar optisch darstellen\n",
    "- Beschreibung des Endergebnisses\n",
    "- Diskussion, welche Lösung sich entschieden wird\n",
    "- Optimierung einer bis maximal drei Interationen\n",
    "- Kommentar, welche weitern Möglichkeiten es gibt\n",
    "- Methode\n",
    "  - Manuelle Eingabe Werte\n",
    "  - Vorhersage treffen \n",
    "  - Optische Darstellung\n",
    "  \n",
    "  "
   ]
  },
  {
   "cell_type": "markdown",
   "metadata": {},
   "source": [
    "### Weitere Importe\n"
   ]
  },
  {
   "cell_type": "code",
   "execution_count": null,
   "metadata": {},
   "outputs": [],
   "source": [
    "from sklearn import preprocessing\n",
    "from sklearn.neighbors import KNeighborsClassifier\n",
    "from sklearn.metrics import classification_report, confusion_matrix \n",
    "\n",
    "from sklearn.naive_bayes import MultinomialNB\n",
    "from sklearn.pipeline import make_pipeline\n",
    "from sklearn.metrics import confusion_matrix"
   ]
  },
  {
   "cell_type": "markdown",
   "metadata": {},
   "source": [
    "### Funktionen"
   ]
  },
  {
   "cell_type": "code",
   "execution_count": null,
   "metadata": {},
   "outputs": [],
   "source": [
    "# classifies cylinders of car datasets\n",
    "def classify_cylinders(cars, model):\n",
    "    predictions = model.predict(cars)\n",
    "    for i in range(0, len(cars)):\n",
    "        print(\"Given=%s, Classified Cylinders: %s\" % (cars[i], predictions[i]))\n",
    "    return prediction\n",
    "\n",
    "# get the accuracy of a model\n",
    "def get_accuracy(predictions, real_values):\n",
    "    errors = abs(predictions - real_values)\n",
    "    mape = 100 * np.mean(errors / real_values)\n",
    "    return 100 - mape"
   ]
  },
  {
   "cell_type": "markdown",
   "metadata": {},
   "source": [
    "##### Split dataframe"
   ]
  },
  {
   "cell_type": "code",
   "execution_count": null,
   "metadata": {},
   "outputs": [],
   "source": [
    "# split dataframe into data and target\n",
    "# this time is the aim the cylinders of the car\n",
    "column_names_t3 = ['mpg', 'horsepower', 'displacement', 'weight', 'acceleration', 'model year', 'origin']\n",
    "x_t3 = pd.DataFrame(df_with_correction, columns=column_names_t3)\n",
    "y_t3 = df_with_correction['cylinders']\n",
    "labels_t3 = {'x':'displacement', 'y': 'cylinders'}\n"
   ]
  },
  {
   "cell_type": "markdown",
   "metadata": {},
   "source": [
    "#### Training"
   ]
  },
  {
   "cell_type": "code",
   "execution_count": null,
   "metadata": {},
   "outputs": [],
   "source": [
    "from sklearn.ensemble import RandomForestClassifier\n",
    "\n",
    "# feature scaling\n",
    "scaler = preprocessing.StandardScaler()  \n",
    "scaler.fit(x_t3)\n",
    "\n",
    "# kfold\n",
    "kf = KFold(n_splits=10)\n",
    "\n",
    "datas = []\n",
    "accuracy = {'nb': [], 'knn': [], 'rf': []}\n",
    "errors = {'nb': [], 'knn': [], 'rf': []}\n",
    "\n",
    "\n",
    "for train_index, test_index in kf.split(x_t3):\n",
    "    data = dict()\n",
    "    # create training and test data \n",
    "    data['x_train'], data['x_test'], data['y_train'], data['y_test'] = x_t3.iloc[train_index], x_t3.iloc[test_index], \\\n",
    "                                       y_t3.iloc[train_index], y_t3.iloc[test_index]\n",
    "    datas.append(data.copy())\n",
    "    \n",
    "    # Gaussian Naive Bayes\n",
    "    nb_model = MultinomialNB()\n",
    "    nb_model.fit(data['x_train'], data['y_train'])\n",
    "    nb_pred = nb_model.predict(data['x_test'])\n",
    "    errors['nb'].append(np.mean(nb_pred != data['y_test']))\n",
    "    accuracy['nb'].append(get_accuracy(nb_pred, data['y_test']))\n",
    "    \n",
    "    # normalise data\n",
    "    data['x_train'] = std.transform(data['x_train'])\n",
    "    data['x_test'] = std.transform(data['x_test'])\n",
    "    \n",
    "    # knn\n",
    "    # calculating error values for different k value\n",
    "    knn_errors = []\n",
    "    knn_accuracy = []\n",
    "    k_max = 101\n",
    "    k_min = 1\n",
    "    for k in range(k_min, k_max):\n",
    "        knn_model = KNeighborsClassifier(n_neighbors=k)\n",
    "        knn_model.fit(data['x_train'], data['y_train'])\n",
    "        knn_pred = knn_model.predict(data['x_test'])\n",
    "        # append error\n",
    "        knn_errors.append(np.mean(knn_pred != data['y_test']))\n",
    "        knn_accuracy.append(get_accuracy(knn_pred, data['y_test']))\n",
    "    knn_acc_min = min(knn_accuracy)\n",
    "    index = knn_accuracy.index(knn_acc_min)\n",
    "    knn_err = knn_errors[index]\n",
    "    # save the  error list to data\n",
    "    errors['knn'].append(knn_err)\n",
    "    accuracy['knn'].append(knn_acc_min)\n",
    "    \n",
    "    \n",
    "    # random forest\n",
    "    # calculating error values for different n_estimators\n",
    "    rf_errors = []\n",
    "    rf_accuracy = []\n",
    "    rf_max = 150\n",
    "    rf_min = 50\n",
    "    for n in range(rf_min, rf_max):\n",
    "        rf_model = RandomForestClassifier(n_estimators=n)\n",
    "        rf_model.fit(data['x_train'], data['y_train'])\n",
    "        rf_pred = rf_model.predict(data['x_test'])\n",
    "        # append error\n",
    "        rf_errors.append(np.mean(rf_pred != data['y_test']))\n",
    "        rf_accuracy.append(get_accuracy(rf_pred, data['y_test']))\n",
    "        \n",
    "    rf_acc_min = min(rf_accuracy)\n",
    "    min_index = rf_accuracy.index(rf_acc_min)\n",
    "    rf_err = rf_errors[min_index]\n",
    "    # save the  error list to data\n",
    "    errors['rf'].append(rf_err)\n",
    "    accuracy['rf'].append(rf_acc_min)\n",
    "    \n",
    "\n",
    "\n",
    "# print the mean error average and minimum of every model\n",
    "print('Mean Error of every model')\n",
    "print('kNN:          \\t{:.4f}\\t Min: {:.4f}'.format(statistics.mean(errors['knn']), min(errors['knn'])))\n",
    "print('Naive Bayes:  \\t{:.4f}\\t Min: {:.4f}'.format(statistics.mean(errors['nb']), min(errors['nb'])))\n",
    "print('Random Forest:\\t{:.4f}\\t Min: {:.4f}'.format(statistics.mean(errors['rf']), min(errors['rf'])))\n",
    "\n",
    "# print Accuracy\n",
    "print('\\nAverage Accuracy of every model')\n",
    "print('kNN:          \\t{:.4f}\\t Max: {:.4f}'.format(statistics.mean(accuracy['knn']), max(accuracy['knn'])))\n",
    "print('Naive Bayes:  \\t{:.4f}\\t Max: {:.4f}'.format(statistics.mean(accuracy['nb']), max(accuracy['nb'])))\n",
    "print('Random Forest:\\t{:.4f}\\t Max: {:.4f}'.format(statistics.mean(accuracy['rf']), max(accuracy['rf'])))"
   ]
  },
  {
   "cell_type": "markdown",
   "metadata": {},
   "source": [
    "## Zusammenfassung\n",
    "Um die Modelle zu trainineren, wurde zunächst mittels _kFold cross validation_ die Daten in 10 Gruppen aufgeteilt. Anschließend wurde jeweils immer eine der Gruppen als Testdatensammlung eingesetzt, und die andern jeweils zum Trainieren der Netze benutzt. Als Modelle wurden folgende eingesetzt:   \n",
    "- Gaussian Naive Bayes\n",
    "- kNN - k-Nearest Neighbors\n",
    "- Random Forest   \n",
    "   \n",
    "Für den Gaussian Naive Bayes wurden die Datensammlungen jeweils ohne weitere Standardisierungen benutzt. Für die restlichen  Modelle wurden die Daten zunächst standardisiert. Für den kNN ging es noch darum, jeweils das beste K für die akutellen Daten zu ermitteln. Dabei wurde für K jeweils Werte zwischen 1 und 100 eingesetzt, um herauszufinde, für welches K am wenigsten Klassifizierungsfehler auftreten. Beispielhaft sind die Ergebnisse für verschiedene K's nachfolgend dargestellt."
   ]
  },
  {
   "cell_type": "code",
   "execution_count": null,
   "metadata": {},
   "outputs": [],
   "source": [
    "# calculating error values for different k value\n",
    "# create random training and testing vars\n",
    "data_random = dict()\n",
    "data_random['x_train'], data_random['x_test'], data_random['y_train'], data_random['y_test'] = \\\n",
    "            train_test_split(x_t3, y_t3, test_size=0.2)\n",
    "error = []\n",
    "k_max = 100\n",
    "k_min = 1\n",
    "for i in range(k_min, k_max):\n",
    "    knn = KNeighborsClassifier(n_neighbors=i)\n",
    "    knn.fit(data_random['x_train'], data_random['y_train'])\n",
    "    pred_i = knn.predict(data_random['x_test'])\n",
    "    # append error \n",
    "    error.append(np.mean(pred_i != data_random['y_test']))\n",
    "    \n",
    "# plot errors\n",
    "plt.plot(range(k_min, k_max), error, color='red', linestyle='dashed', marker='o', markerfacecolor='blue', markersize=10)\n",
    "# description\n",
    "plt.title('kNN: Error Rate for different K Values')\n",
    "plt.xlabel('K Value')\n",
    "plt.ylabel('Mean Error')"
   ]
  },
  {
   "cell_type": "markdown",
   "metadata": {},
   "source": [
    "Für das Random Forest Modell wurde ungefähr das gleiche gemacht, um den perfekten Estimator zu finde, ohne das das Modell overfittet.\n"
   ]
  },
  {
   "cell_type": "markdown",
   "metadata": {},
   "source": [
    "Nachdem auch noch das Random Forest Modell mit den Daten trainiert wurde, wurde abschließend der Durchschnitt der Richtigklassifizierungsquote der verschiedenen Modelle ermittelt, um entscheiden zu können, welches Modell am besten performt. Dabei wurde folgendes Ergebnis ermittelt:   \n",
    "\n",
    "```\n",
    "Mean Error of every model\n",
    "kNN:          \t0.1762\t Min: 0.0769\n",
    "Naive Bayes:  \t0.0665\t Min: 0.0000\n",
    "Random Forest:\t0.0461\t Min: 0.0000\n",
    "\n",
    "Average Accuracy of every model\n",
    "kNN:          \t93.3782\t Max: 97.0085\n",
    "Naive Bayes:  \t98.2901\t Max: 100.0000\n",
    "Random Forest:\t98.5662\t Max: 100.0000\n",
    "```\n",
    "\n",
    "Selbst wenn man für das kNN-Modell immer den besten Wert nehmen würde, performt kNN im Durchschnitt ungenauer als das Naive Bayes Modell. Des Weiteren hat das Naive-Bayes Verfahren ein Modell gehabt, welches auf den Datensätzen mit einer Genauigkeit von 100% klassifizieren konnte. Das Random Forest Modell hat eine noch höhere Genauigkeit als das Naive Bayes. Auch der Mean Error ist noch ein wenig kleiner, als der des Naive Bayes Modells. Deswegen ist, bezogen auf die gegebene Datenmenge, das Random Forest Verfahren zu präferieren."
   ]
  },
  {
   "cell_type": "markdown",
   "metadata": {},
   "source": [
    "### Visualisierung bei zufälliger Datenmenge"
   ]
  },
  {
   "cell_type": "code",
   "execution_count": null,
   "metadata": {},
   "outputs": [],
   "source": [
    "# create random training and testing vars\n",
    "data_random = dict()\n",
    "data_random['x_train'], data_random['x_test'], data_random['y_train'], data_random['y_test'] = \\\n",
    "            train_test_split(x_t3, y_t3, test_size=0.2)\n",
    "\n",
    "# Gaussian Naive Bayes\n",
    "nb_model = MultinomialNB()\n",
    "nb_model.fit(data_random['x_train'], data_random['y_train'])\n",
    "nb_pred = nb_model.predict(data_random['x_test'])\n",
    "\n",
    "# random forest\n",
    "rf_model = RandomForestClassifier(n_estimators=100)\n",
    "rf_model.fit(data_random['x_train'], data_random['y_train'])\n",
    "rf_pred = rf_model.predict(data_random['x_test'])\n",
    "\n",
    "# output\n",
    "print('Gaussian Naive Bayes')\n",
    "print(classification_report(data_random['y_test'], nb_pred))\n",
    "print('\\nRandom Forest')\n",
    "print(classification_report(data_random['y_test'], rf_pred))\n"
   ]
  },
  {
   "cell_type": "markdown",
   "metadata": {},
   "source": [
    "##### Vergleich DIagramm"
   ]
  },
  {
   "cell_type": "code",
   "execution_count": null,
   "metadata": {},
   "outputs": [],
   "source": [
    "different_cylinder = data_random['y_test'].unique()\n",
    "\n",
    "# Gaussian Naive Bayes\n",
    "mat = confusion_matrix(data_random['y_test'], nb_pred)\n",
    "sns.heatmap(mat.T, square=True, annot=True, fmt='d', cbar=False,\n",
    "            xticklabels=different_cylinder, yticklabels=different_cylinder)\n",
    "plt.title('Gaussian Naive Bayes: Cylinder classification')\n",
    "plt.xlabel('true values')\n",
    "plt.ylabel('predicted values')\n",
    "plt.show()\n",
    "\n",
    "# Random Forest\n",
    "mat = confusion_matrix(data_random['y_test'], rf_pred)\n",
    "sns.heatmap(mat.T, square=True, annot=True, fmt='d', cbar=False,\n",
    "            xticklabels=different_cylinder, yticklabels=different_cylinder)\n",
    "plt.title('Random Forest: Cylinder classification')\n",
    "plt.xlabel('true values')\n",
    "plt.ylabel('predicted values')\n",
    "plt.show()\n"
   ]
  },
  {
   "cell_type": "markdown",
   "metadata": {},
   "source": [
    "#### Klassifizierung von Beispieldatensätzen"
   ]
  },
  {
   "cell_type": "code",
   "execution_count": null,
   "metadata": {},
   "outputs": [],
   "source": [
    "from ipywidgets import widgets\n",
    "\n",
    "# this shitty form cost me like 4 hours wtf\n",
    "\n",
    "print(\"Classify Cylinder of a car: \\n\")\n",
    "\n",
    "# ['mpg', 'horsepower', 'displacement', 'weight', 'acceleration', 'model year', 'origin']\n",
    "textboxes = dict()\n",
    "default_values = {'mpg': '25.', 'horsepower': '100.' , 'displacement': '98.' , 'weight': '2046.', \\\n",
    "                   'acceleration': '19.', 'model year': '71.', 'origin': '1.'}\n",
    "\n",
    "\n",
    "for attr in default_values.keys():\n",
    "    textboxes[attr] = widgets.Text()\n",
    "    print(attr.capitalize())\n",
    "    textboxes[attr].value = default_values[attr]\n",
    "    display(textboxes[attr])\n",
    "\n",
    "\n",
    "\n",
    "submit_button = widgets.Button(description=\"Classify cylinder\")\n",
    "display(submit_button)\n",
    "\n",
    "print(\"\\nClassified Cylinder\")\n",
    "output_tb = widgets.Text()\n",
    "display(output_tb)\n",
    "\n",
    "def handle_button_click(b):\n",
    "    try:\n",
    "        data = read_out_infos()\n",
    "        output_tb.value = 'Gaussian Naive Bayes: {:.2f} \\n Random Forest: {:.2f}'\\\n",
    "        .format(predict_horsepower(data, nb_model)[0], predict_horsepower(data, rf_model)[0])\n",
    "    except Exception as error:\n",
    "        output_tb.value = str(error)\n",
    "        \n",
    "        \n",
    "        \n",
    "    \n",
    "def read_out_infos():\n",
    "    #input_car['mpg'] =\n",
    "    data = [[]]\n",
    "    for attr_name in textboxes.keys():\n",
    "        value = textboxes[attr_name].value\n",
    "        if is_float(value):\n",
    "            data[0].append(float(value))\n",
    "        else:\n",
    "            raise Exception('Wrong datatype: Expected float got {} in textbox \\\"{}\\\"'.format(value, attr_name))\n",
    "    return data\n",
    "\n",
    "\n",
    "def is_float(value):\n",
    "    try:\n",
    "        float(value)\n",
    "        return True\n",
    "    except:\n",
    "        return False\n",
    "    \n",
    "    \n",
    "submit_button.on_click(handle_button_click)\n"
   ]
  },
  {
   "cell_type": "markdown",
   "metadata": {},
   "source": [
    "## Ausblick\n",
    "In Zukunft könnten noch andere Validierungsverfahren verwendet werden, um die Trainings- und Testdatenmengen ein bisschen zufälliger durchzumischen. Bezogen auf das Random Forest Modell wurde bislang nur der Estimator verändert. Dort könnte man beispielsweise noch an der maximalen Tiefe der Bäume schrauben, um ein Übertrainierung entgegenzuwirken. Ansonsten könnte man noch die Oprtimierungsmöglichkeiten aus Aufgabe 2 umsetzen."
   ]
  }
 ],
 "metadata": {
  "kernelspec": {
   "display_name": "Python 3",
   "language": "python",
   "name": "python3"
  },
  "language_info": {
   "codemirror_mode": {
    "name": "ipython",
    "version": 3
   },
   "file_extension": ".py",
   "mimetype": "text/x-python",
   "name": "python",
   "nbconvert_exporter": "python",
   "pygments_lexer": "ipython3",
   "version": "3.7.3"
  }
 },
 "nbformat": 4,
 "nbformat_minor": 2
}
